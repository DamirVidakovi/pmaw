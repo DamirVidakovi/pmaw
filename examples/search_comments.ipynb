{
 "cells": [
  {
   "cell_type": "markdown",
   "id": "separated-champagne",
   "metadata": {},
   "source": [
    "# Search Comments\n",
    "In this notebook, I will show you how to use the method `search_comments` from `PMAW` to retrieve comments from the Reddit Pushshift API. To view more details about the Search Comments endpoint you can view the Pushshift [documentation](https://github.com/pushshift/api#searching-comments)."
   ]
  },
  {
   "cell_type": "code",
   "execution_count": 1,
   "id": "threaded-dutch",
   "metadata": {},
   "outputs": [],
   "source": [
    "import pandas as pd\n",
    "from pmaw import PushshiftAPI"
   ]
  },
  {
   "cell_type": "code",
   "execution_count": 2,
   "id": "legislative-shoulder",
   "metadata": {},
   "outputs": [],
   "source": [
    "# instantiate\n",
    "api = PushshiftAPI()"
   ]
  },
  {
   "cell_type": "markdown",
   "id": "expensive-afghanistan",
   "metadata": {},
   "source": [
    "## Data Preparation"
   ]
  },
  {
   "cell_type": "code",
   "execution_count": 3,
   "id": "continent-treat",
   "metadata": {},
   "outputs": [
    {
     "data": {
      "text/html": [
       "<div>\n",
       "<style scoped>\n",
       "    .dataframe tbody tr th:only-of-type {\n",
       "        vertical-align: middle;\n",
       "    }\n",
       "\n",
       "    .dataframe tbody tr th {\n",
       "        vertical-align: top;\n",
       "    }\n",
       "\n",
       "    .dataframe thead th {\n",
       "        text-align: right;\n",
       "    }\n",
       "</style>\n",
       "<table border=\"1\" class=\"dataframe\">\n",
       "  <thead>\n",
       "    <tr style=\"text-align: right;\">\n",
       "      <th></th>\n",
       "      <th>all_awardings</th>\n",
       "      <th>allow_live_comments</th>\n",
       "      <th>author</th>\n",
       "      <th>author_flair_css_class</th>\n",
       "      <th>author_flair_richtext</th>\n",
       "      <th>author_flair_text</th>\n",
       "      <th>author_flair_type</th>\n",
       "      <th>author_fullname</th>\n",
       "      <th>author_patreon_flair</th>\n",
       "      <th>author_premium</th>\n",
       "      <th>...</th>\n",
       "      <th>author_cakeday</th>\n",
       "      <th>distinguished</th>\n",
       "      <th>suggested_sort</th>\n",
       "      <th>crosspost_parent</th>\n",
       "      <th>crosspost_parent_list</th>\n",
       "      <th>category</th>\n",
       "      <th>top_awarded_type</th>\n",
       "      <th>poll_data</th>\n",
       "      <th>steward_reports</th>\n",
       "      <th>comment_ids</th>\n",
       "    </tr>\n",
       "  </thead>\n",
       "  <tbody>\n",
       "    <tr>\n",
       "      <th>0</th>\n",
       "      <td>[]</td>\n",
       "      <td>False</td>\n",
       "      <td>nf_hades</td>\n",
       "      <td>NaN</td>\n",
       "      <td>[]</td>\n",
       "      <td>NaN</td>\n",
       "      <td>text</td>\n",
       "      <td>t2_hriq1b</td>\n",
       "      <td>False</td>\n",
       "      <td>False</td>\n",
       "      <td>...</td>\n",
       "      <td>NaN</td>\n",
       "      <td>NaN</td>\n",
       "      <td>NaN</td>\n",
       "      <td>NaN</td>\n",
       "      <td>NaN</td>\n",
       "      <td>NaN</td>\n",
       "      <td>NaN</td>\n",
       "      <td>NaN</td>\n",
       "      <td>NaN</td>\n",
       "      <td>gjacwx5,gjad2l6,gjadatw,gjadc7w,gjadcwh,gjadgd...</td>\n",
       "    </tr>\n",
       "    <tr>\n",
       "      <th>1</th>\n",
       "      <td>[]</td>\n",
       "      <td>False</td>\n",
       "      <td>MyLittleDeku</td>\n",
       "      <td>NaN</td>\n",
       "      <td>[]</td>\n",
       "      <td>NaN</td>\n",
       "      <td>text</td>\n",
       "      <td>t2_7dj62vj2</td>\n",
       "      <td>False</td>\n",
       "      <td>False</td>\n",
       "      <td>...</td>\n",
       "      <td>NaN</td>\n",
       "      <td>NaN</td>\n",
       "      <td>NaN</td>\n",
       "      <td>NaN</td>\n",
       "      <td>NaN</td>\n",
       "      <td>NaN</td>\n",
       "      <td>NaN</td>\n",
       "      <td>NaN</td>\n",
       "      <td>NaN</td>\n",
       "      <td>gjacn1r</td>\n",
       "    </tr>\n",
       "    <tr>\n",
       "      <th>2</th>\n",
       "      <td>[]</td>\n",
       "      <td>False</td>\n",
       "      <td>lilirucaarde12</td>\n",
       "      <td>NaN</td>\n",
       "      <td>[]</td>\n",
       "      <td>NaN</td>\n",
       "      <td>text</td>\n",
       "      <td>t2_6i04uaxw</td>\n",
       "      <td>False</td>\n",
       "      <td>False</td>\n",
       "      <td>...</td>\n",
       "      <td>NaN</td>\n",
       "      <td>NaN</td>\n",
       "      <td>NaN</td>\n",
       "      <td>NaN</td>\n",
       "      <td>NaN</td>\n",
       "      <td>NaN</td>\n",
       "      <td>NaN</td>\n",
       "      <td>NaN</td>\n",
       "      <td>NaN</td>\n",
       "      <td>gjac5fb,gjacdy5,gjaco45,gjasj4f,gjbxfeg</td>\n",
       "    </tr>\n",
       "    <tr>\n",
       "      <th>3</th>\n",
       "      <td>[]</td>\n",
       "      <td>False</td>\n",
       "      <td>[deleted]</td>\n",
       "      <td>NaN</td>\n",
       "      <td>NaN</td>\n",
       "      <td>NaN</td>\n",
       "      <td>NaN</td>\n",
       "      <td>NaN</td>\n",
       "      <td>NaN</td>\n",
       "      <td>NaN</td>\n",
       "      <td>...</td>\n",
       "      <td>NaN</td>\n",
       "      <td>NaN</td>\n",
       "      <td>NaN</td>\n",
       "      <td>NaN</td>\n",
       "      <td>NaN</td>\n",
       "      <td>NaN</td>\n",
       "      <td>NaN</td>\n",
       "      <td>NaN</td>\n",
       "      <td>NaN</td>\n",
       "      <td>gjac9d6</td>\n",
       "    </tr>\n",
       "    <tr>\n",
       "      <th>4</th>\n",
       "      <td>[]</td>\n",
       "      <td>False</td>\n",
       "      <td>sirdimpleton</td>\n",
       "      <td>NaN</td>\n",
       "      <td>[]</td>\n",
       "      <td>NaN</td>\n",
       "      <td>text</td>\n",
       "      <td>t2_bznmn4i</td>\n",
       "      <td>False</td>\n",
       "      <td>False</td>\n",
       "      <td>...</td>\n",
       "      <td>NaN</td>\n",
       "      <td>NaN</td>\n",
       "      <td>NaN</td>\n",
       "      <td>NaN</td>\n",
       "      <td>NaN</td>\n",
       "      <td>NaN</td>\n",
       "      <td>NaN</td>\n",
       "      <td>NaN</td>\n",
       "      <td>NaN</td>\n",
       "      <td>gjaocmg,gjb2jsj,gjbisrw,gjbjbk8</td>\n",
       "    </tr>\n",
       "  </tbody>\n",
       "</table>\n",
       "<p>5 rows × 89 columns</p>\n",
       "</div>"
      ],
      "text/plain": [
       "  all_awardings  allow_live_comments          author author_flair_css_class  \\\n",
       "0            []                False        nf_hades                    NaN   \n",
       "1            []                False    MyLittleDeku                    NaN   \n",
       "2            []                False  lilirucaarde12                    NaN   \n",
       "3            []                False       [deleted]                    NaN   \n",
       "4            []                False    sirdimpleton                    NaN   \n",
       "\n",
       "  author_flair_richtext author_flair_text author_flair_type author_fullname  \\\n",
       "0                    []               NaN              text       t2_hriq1b   \n",
       "1                    []               NaN              text     t2_7dj62vj2   \n",
       "2                    []               NaN              text     t2_6i04uaxw   \n",
       "3                   NaN               NaN               NaN             NaN   \n",
       "4                    []               NaN              text      t2_bznmn4i   \n",
       "\n",
       "  author_patreon_flair author_premium  ... author_cakeday  distinguished  \\\n",
       "0                False          False  ...            NaN            NaN   \n",
       "1                False          False  ...            NaN            NaN   \n",
       "2                False          False  ...            NaN            NaN   \n",
       "3                  NaN            NaN  ...            NaN            NaN   \n",
       "4                False          False  ...            NaN            NaN   \n",
       "\n",
       "  suggested_sort  crosspost_parent  crosspost_parent_list category  \\\n",
       "0            NaN               NaN                    NaN      NaN   \n",
       "1            NaN               NaN                    NaN      NaN   \n",
       "2            NaN               NaN                    NaN      NaN   \n",
       "3            NaN               NaN                    NaN      NaN   \n",
       "4            NaN               NaN                    NaN      NaN   \n",
       "\n",
       "  top_awarded_type poll_data steward_reports  \\\n",
       "0              NaN       NaN             NaN   \n",
       "1              NaN       NaN             NaN   \n",
       "2              NaN       NaN             NaN   \n",
       "3              NaN       NaN             NaN   \n",
       "4              NaN       NaN             NaN   \n",
       "\n",
       "                                         comment_ids  \n",
       "0  gjacwx5,gjad2l6,gjadatw,gjadc7w,gjadcwh,gjadgd...  \n",
       "1                                            gjacn1r  \n",
       "2            gjac5fb,gjacdy5,gjaco45,gjasj4f,gjbxfeg  \n",
       "3                                            gjac9d6  \n",
       "4                    gjaocmg,gjb2jsj,gjbisrw,gjbjbk8  \n",
       "\n",
       "[5 rows x 89 columns]"
      ]
     },
     "execution_count": 3,
     "metadata": {},
     "output_type": "execute_result"
    }
   ],
   "source": [
    "# import test data into a dataframe\n",
    "posts_df = pd.read_csv(f'./test_data.csv', delimiter=';', header=0)\n",
    "posts_df.head(5)"
   ]
  },
  {
   "cell_type": "code",
   "execution_count": 4,
   "id": "qualified-legislation",
   "metadata": {},
   "outputs": [
    {
     "data": {
      "text/plain": [
       "2500"
      ]
     },
     "execution_count": 4,
     "metadata": {},
     "output_type": "execute_result"
    }
   ],
   "source": [
    "len(posts_df)"
   ]
  },
  {
   "cell_type": "markdown",
   "id": "unexpected-uzbekistan",
   "metadata": {},
   "source": [
    "The data in `posts_df`, contains 2500 submissions and their respective metadata extracted from a subreddit submission search, the comment_ids were added post-search with additional requests."
   ]
  },
  {
   "cell_type": "code",
   "execution_count": 5,
   "id": "charged-september",
   "metadata": {},
   "outputs": [
    {
     "data": {
      "text/plain": [
       "271"
      ]
     },
     "execution_count": 5,
     "metadata": {},
     "output_type": "execute_result"
    }
   ],
   "source": [
    "posts_df.loc[:, 'comment_ids'].isna().sum()"
   ]
  },
  {
   "cell_type": "code",
   "execution_count": 6,
   "id": "interpreted-dinner",
   "metadata": {
    "scrolled": true
   },
   "outputs": [],
   "source": [
    "# extract comment_ids\n",
    "comment_ids_str = list(posts_df.loc[posts_df['comment_ids'].notna(), 'comment_ids'])"
   ]
  },
  {
   "cell_type": "code",
   "execution_count": 7,
   "id": "municipal-witch",
   "metadata": {},
   "outputs": [
    {
     "name": "stdout",
     "output_type": "stream",
     "text": [
      "Ready to retrieve 43219 comments\n"
     ]
    }
   ],
   "source": [
    "# convert strings to lists\n",
    "comment_ids = []\n",
    "for c_str in comment_ids_str:\n",
    "    # exclude ending , since all entries include one\n",
    "    comment_ids.extend(c_str[:-1].split(\",\"))\n",
    "num_comments = len(comment_ids)\n",
    "print(f'Ready to retrieve {num_comments} comments')"
   ]
  },
  {
   "cell_type": "code",
   "execution_count": 8,
   "id": "twelve-chain",
   "metadata": {
    "scrolled": true
   },
   "outputs": [
    {
     "data": {
      "text/plain": [
       "['gjacwx5',\n",
       " 'gjad2l6',\n",
       " 'gjadatw',\n",
       " 'gjadc7w',\n",
       " 'gjadcwh',\n",
       " 'gjadgd7',\n",
       " 'gjadlbc',\n",
       " 'gjadnoc',\n",
       " 'gjadog1',\n",
       " 'gjadphb']"
      ]
     },
     "execution_count": 8,
     "metadata": {},
     "output_type": "execute_result"
    }
   ],
   "source": [
    "comment_ids[:10]"
   ]
  },
  {
   "cell_type": "markdown",
   "id": "ceramic-ordinary",
   "metadata": {},
   "source": [
    "## Search Comments"
   ]
  },
  {
   "cell_type": "code",
   "execution_count": 15,
   "id": "leading-planet",
   "metadata": {},
   "outputs": [
    {
     "name": "stdout",
     "output_type": "stream",
     "text": [
      "13656825 total results available for the selected parameters\n",
      "Total:: Success Rate: 100.00% - Requests: 10 - Batches: 1\n",
      "Wall time: 12.4 s\n"
     ]
    }
   ],
   "source": [
    "%%time\n",
    "comments = api.search_comments(subreddit=\"science\", limit=1000)"
   ]
  },
  {
   "cell_type": "code",
   "execution_count": 16,
   "id": "middle-heading",
   "metadata": {},
   "outputs": [
    {
     "name": "stdout",
     "output_type": "stream",
     "text": [
      "531057 total results available for the selected parameters\n",
      "Total:: Success Rate: 76.92% - Requests: 13 - Batches: 2\n",
      "Wall time: 29.1 s\n"
     ]
    }
   ],
   "source": [
    "%%time\n",
    "comments = api.search_comments(q=\"GME\", subreddit=\"wallstreetbets\", limit=1000)"
   ]
  },
  {
   "cell_type": "markdown",
   "id": "interested-guide",
   "metadata": {},
   "source": [
    "## Search Comments by ID"
   ]
  },
  {
   "cell_type": "markdown",
   "id": "refined-peninsula",
   "metadata": {},
   "source": [
    "### Using a Single Comment ID"
   ]
  },
  {
   "cell_type": "code",
   "execution_count": 9,
   "id": "covered-processing",
   "metadata": {
    "scrolled": true
   },
   "outputs": [
    {
     "name": "stdout",
     "output_type": "stream",
     "text": [
      "Total:: Success Rate: 100.00% - Requests: 1 - Batches: 1\n"
     ]
    },
    {
     "data": {
      "text/plain": [
       "[{'all_awardings': [],\n",
       "  'approved_at_utc': None,\n",
       "  'associated_award': None,\n",
       "  'author': 'AVrandomusic',\n",
       "  'author_flair_background_color': None,\n",
       "  'author_flair_css_class': None,\n",
       "  'author_flair_richtext': [],\n",
       "  'author_flair_template_id': None,\n",
       "  'author_flair_text': None,\n",
       "  'author_flair_text_color': None,\n",
       "  'author_flair_type': 'text',\n",
       "  'author_fullname': 't2_747ea0dh',\n",
       "  'author_patreon_flair': False,\n",
       "  'author_premium': False,\n",
       "  'awarders': [],\n",
       "  'banned_at_utc': None,\n",
       "  'body': \"Who's complaining? I'm a thigh stand!\",\n",
       "  'can_mod_post': False,\n",
       "  'collapsed': False,\n",
       "  'collapsed_because_crowd_control': None,\n",
       "  'collapsed_reason': None,\n",
       "  'comment_type': None,\n",
       "  'created_utc': 1610668310,\n",
       "  'distinguished': None,\n",
       "  'edited': False,\n",
       "  'gildings': {},\n",
       "  'id': 'gjacwx5',\n",
       "  'is_submitter': False,\n",
       "  'link_id': 't3_kxi2w8',\n",
       "  'locked': False,\n",
       "  'no_follow': False,\n",
       "  'parent_id': 't3_kxi2w8',\n",
       "  'permalink': '/r/anime/comments/kxi2w8/stop_complaining_about_the_thighs_in/gjacwx5/',\n",
       "  'retrieved_on': 1610756371,\n",
       "  'score': 6,\n",
       "  'send_replies': True,\n",
       "  'stickied': False,\n",
       "  'subreddit': 'anime',\n",
       "  'subreddit_id': 't5_2qh22',\n",
       "  'top_awarded_type': None,\n",
       "  'total_awards_received': 0,\n",
       "  'treatment_tags': []}]"
      ]
     },
     "execution_count": 9,
     "metadata": {},
     "output_type": "execute_result"
    }
   ],
   "source": [
    "comment = api.search_comments(ids=comment_ids[0])\n",
    "comment"
   ]
  },
  {
   "cell_type": "markdown",
   "id": "wired-mileage",
   "metadata": {},
   "source": [
    "### Using Multiple Comment IDs"
   ]
  },
  {
   "cell_type": "code",
   "execution_count": 10,
   "id": "neutral-shakespeare",
   "metadata": {},
   "outputs": [
    {
     "name": "stdout",
     "output_type": "stream",
     "text": [
      "Total:: Success Rate: 78.57% - Requests: 56 - Batches: 7\n",
      "Wall time: 1min 41s\n"
     ]
    }
   ],
   "source": [
    "%%time\n",
    "comments_arr = api.search_comments(ids=comment_ids)"
   ]
  },
  {
   "cell_type": "code",
   "execution_count": 11,
   "id": "valued-newton",
   "metadata": {},
   "outputs": [
    {
     "name": "stdout",
     "output_type": "stream",
     "text": [
      "40990 comments returned by Pushshift\n"
     ]
    }
   ],
   "source": [
    "print(f'{len(comments_arr)} comments returned by Pushshift')"
   ]
  },
  {
   "cell_type": "markdown",
   "id": "stylish-flight",
   "metadata": {},
   "source": [
    "### Save Comments to CSV"
   ]
  },
  {
   "cell_type": "code",
   "execution_count": 12,
   "id": "peaceful-sentence",
   "metadata": {},
   "outputs": [],
   "source": [
    "# convert comments to dataframe\n",
    "comments_df = pd.DataFrame(comments_arr)"
   ]
  },
  {
   "cell_type": "code",
   "execution_count": 13,
   "id": "previous-missile",
   "metadata": {},
   "outputs": [
    {
     "data": {
      "text/html": [
       "<div>\n",
       "<style scoped>\n",
       "    .dataframe tbody tr th:only-of-type {\n",
       "        vertical-align: middle;\n",
       "    }\n",
       "\n",
       "    .dataframe tbody tr th {\n",
       "        vertical-align: top;\n",
       "    }\n",
       "\n",
       "    .dataframe thead th {\n",
       "        text-align: right;\n",
       "    }\n",
       "</style>\n",
       "<table border=\"1\" class=\"dataframe\">\n",
       "  <thead>\n",
       "    <tr style=\"text-align: right;\">\n",
       "      <th></th>\n",
       "      <th>all_awardings</th>\n",
       "      <th>approved_at_utc</th>\n",
       "      <th>associated_award</th>\n",
       "      <th>author</th>\n",
       "      <th>author_flair_background_color</th>\n",
       "      <th>author_flair_css_class</th>\n",
       "      <th>author_flair_richtext</th>\n",
       "      <th>author_flair_template_id</th>\n",
       "      <th>author_flair_text</th>\n",
       "      <th>author_flair_text_color</th>\n",
       "      <th>...</th>\n",
       "      <th>retrieved_on</th>\n",
       "      <th>score</th>\n",
       "      <th>send_replies</th>\n",
       "      <th>stickied</th>\n",
       "      <th>subreddit</th>\n",
       "      <th>subreddit_id</th>\n",
       "      <th>top_awarded_type</th>\n",
       "      <th>total_awards_received</th>\n",
       "      <th>treatment_tags</th>\n",
       "      <th>author_cakeday</th>\n",
       "    </tr>\n",
       "  </thead>\n",
       "  <tbody>\n",
       "    <tr>\n",
       "      <th>0</th>\n",
       "      <td>[]</td>\n",
       "      <td>None</td>\n",
       "      <td>None</td>\n",
       "      <td>AutoModerator</td>\n",
       "      <td>None</td>\n",
       "      <td>None</td>\n",
       "      <td>[]</td>\n",
       "      <td>None</td>\n",
       "      <td>None</td>\n",
       "      <td>None</td>\n",
       "      <td>...</td>\n",
       "      <td>1610615731</td>\n",
       "      <td>1</td>\n",
       "      <td>False</td>\n",
       "      <td>True</td>\n",
       "      <td>anime</td>\n",
       "      <td>t5_2qh22</td>\n",
       "      <td>None</td>\n",
       "      <td>0</td>\n",
       "      <td>[]</td>\n",
       "      <td>NaN</td>\n",
       "    </tr>\n",
       "    <tr>\n",
       "      <th>1</th>\n",
       "      <td>[]</td>\n",
       "      <td>None</td>\n",
       "      <td>None</td>\n",
       "      <td>AutoModerator</td>\n",
       "      <td>None</td>\n",
       "      <td>None</td>\n",
       "      <td>[]</td>\n",
       "      <td>None</td>\n",
       "      <td>None</td>\n",
       "      <td>None</td>\n",
       "      <td>...</td>\n",
       "      <td>1610615779</td>\n",
       "      <td>1</td>\n",
       "      <td>False</td>\n",
       "      <td>False</td>\n",
       "      <td>anime</td>\n",
       "      <td>t5_2qh22</td>\n",
       "      <td>None</td>\n",
       "      <td>0</td>\n",
       "      <td>[]</td>\n",
       "      <td>NaN</td>\n",
       "    </tr>\n",
       "    <tr>\n",
       "      <th>2</th>\n",
       "      <td>[]</td>\n",
       "      <td>None</td>\n",
       "      <td>None</td>\n",
       "      <td>[deleted]</td>\n",
       "      <td></td>\n",
       "      <td>None</td>\n",
       "      <td>NaN</td>\n",
       "      <td>None</td>\n",
       "      <td>None</td>\n",
       "      <td>dark</td>\n",
       "      <td>...</td>\n",
       "      <td>1610615794</td>\n",
       "      <td>0</td>\n",
       "      <td>True</td>\n",
       "      <td>False</td>\n",
       "      <td>anime</td>\n",
       "      <td>t5_2qh22</td>\n",
       "      <td>None</td>\n",
       "      <td>0</td>\n",
       "      <td>[]</td>\n",
       "      <td>NaN</td>\n",
       "    </tr>\n",
       "  </tbody>\n",
       "</table>\n",
       "<p>3 rows × 43 columns</p>\n",
       "</div>"
      ],
      "text/plain": [
       "  all_awardings approved_at_utc associated_award         author  \\\n",
       "0            []            None             None  AutoModerator   \n",
       "1            []            None             None  AutoModerator   \n",
       "2            []            None             None      [deleted]   \n",
       "\n",
       "  author_flair_background_color author_flair_css_class author_flair_richtext  \\\n",
       "0                          None                   None                    []   \n",
       "1                          None                   None                    []   \n",
       "2                                                 None                   NaN   \n",
       "\n",
       "  author_flair_template_id author_flair_text author_flair_text_color  ...  \\\n",
       "0                     None              None                    None  ...   \n",
       "1                     None              None                    None  ...   \n",
       "2                     None              None                    dark  ...   \n",
       "\n",
       "  retrieved_on score send_replies stickied subreddit subreddit_id  \\\n",
       "0   1610615731     1        False     True     anime     t5_2qh22   \n",
       "1   1610615779     1        False    False     anime     t5_2qh22   \n",
       "2   1610615794     0         True    False     anime     t5_2qh22   \n",
       "\n",
       "  top_awarded_type  total_awards_received  treatment_tags author_cakeday  \n",
       "0             None                      0              []            NaN  \n",
       "1             None                      0              []            NaN  \n",
       "2             None                      0              []            NaN  \n",
       "\n",
       "[3 rows x 43 columns]"
      ]
     },
     "execution_count": 13,
     "metadata": {},
     "output_type": "execute_result"
    }
   ],
   "source": [
    "comments_df.head(3)"
   ]
  },
  {
   "cell_type": "code",
   "execution_count": 14,
   "id": "novel-radar",
   "metadata": {},
   "outputs": [],
   "source": [
    "# replace usage of ; in comment bodies\n",
    "import re\n",
    "for index, row in comments_df.iterrows():\n",
    "    row['body'] = re.sub(r';+', '.', row['body'])\n",
    "    \n",
    "comments_df.to_csv('./test_comments.csv', sep=';', header=True, index=False, columns=list(comments_df.axes[1]))"
   ]
  }
 ],
 "metadata": {
  "kernelspec": {
   "display_name": "Python 3",
   "language": "python",
   "name": "python3"
  },
  "language_info": {
   "codemirror_mode": {
    "name": "ipython",
    "version": 3
   },
   "file_extension": ".py",
   "mimetype": "text/x-python",
   "name": "python",
   "nbconvert_exporter": "python",
   "pygments_lexer": "ipython3",
   "version": "3.6.12"
  }
 },
 "nbformat": 4,
 "nbformat_minor": 5
}
