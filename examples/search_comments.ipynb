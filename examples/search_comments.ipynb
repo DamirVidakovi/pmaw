{
 "cells": [
  {
   "cell_type": "markdown",
   "id": "separated-champagne",
   "metadata": {},
   "source": [
    "# Search Comments\n",
    "In this notebook, I will show you how to use the method `search_comments` from `PMAW` to retrieve comments from the Reddit Pushshift API. To view more details about the Search Comments endpoint you can view the Pushshift [documentation](https://github.com/pushshift/api#searching-comments)."
   ]
  },
  {
   "cell_type": "code",
   "execution_count": 1,
   "id": "threaded-dutch",
   "metadata": {},
   "outputs": [],
   "source": [
    "import pandas as pd\n",
    "from pmaw import PushshiftAPI"
   ]
  },
  {
   "cell_type": "code",
   "execution_count": 2,
   "id": "legislative-shoulder",
   "metadata": {},
   "outputs": [],
   "source": [
    "# instantiate\n",
    "api = PushshiftAPI()"
   ]
  },
  {
   "cell_type": "markdown",
   "id": "expensive-afghanistan",
   "metadata": {},
   "source": [
    "## Data Preparation"
   ]
  },
  {
   "cell_type": "code",
   "execution_count": 9,
   "id": "continent-treat",
   "metadata": {},
   "outputs": [
    {
     "data": {
      "text/html": [
       "<div>\n",
       "<style scoped>\n",
       "    .dataframe tbody tr th:only-of-type {\n",
       "        vertical-align: middle;\n",
       "    }\n",
       "\n",
       "    .dataframe tbody tr th {\n",
       "        vertical-align: top;\n",
       "    }\n",
       "\n",
       "    .dataframe thead th {\n",
       "        text-align: right;\n",
       "    }\n",
       "</style>\n",
       "<table border=\"1\" class=\"dataframe\">\n",
       "  <thead>\n",
       "    <tr style=\"text-align: right;\">\n",
       "      <th></th>\n",
       "      <th>all_awardings</th>\n",
       "      <th>allow_live_comments</th>\n",
       "      <th>author</th>\n",
       "      <th>author_flair_css_class</th>\n",
       "      <th>author_flair_richtext</th>\n",
       "      <th>author_flair_text</th>\n",
       "      <th>author_flair_type</th>\n",
       "      <th>author_fullname</th>\n",
       "      <th>author_patreon_flair</th>\n",
       "      <th>author_premium</th>\n",
       "      <th>...</th>\n",
       "      <th>author_cakeday</th>\n",
       "      <th>distinguished</th>\n",
       "      <th>suggested_sort</th>\n",
       "      <th>crosspost_parent</th>\n",
       "      <th>crosspost_parent_list</th>\n",
       "      <th>category</th>\n",
       "      <th>top_awarded_type</th>\n",
       "      <th>poll_data</th>\n",
       "      <th>steward_reports</th>\n",
       "      <th>comment_ids</th>\n",
       "    </tr>\n",
       "  </thead>\n",
       "  <tbody>\n",
       "    <tr>\n",
       "      <th>0</th>\n",
       "      <td>[]</td>\n",
       "      <td>False</td>\n",
       "      <td>nf_hades</td>\n",
       "      <td>NaN</td>\n",
       "      <td>[]</td>\n",
       "      <td>NaN</td>\n",
       "      <td>text</td>\n",
       "      <td>t2_hriq1b</td>\n",
       "      <td>False</td>\n",
       "      <td>False</td>\n",
       "      <td>...</td>\n",
       "      <td>NaN</td>\n",
       "      <td>NaN</td>\n",
       "      <td>NaN</td>\n",
       "      <td>NaN</td>\n",
       "      <td>NaN</td>\n",
       "      <td>NaN</td>\n",
       "      <td>NaN</td>\n",
       "      <td>NaN</td>\n",
       "      <td>NaN</td>\n",
       "      <td>gjacwx5,gjad2l6,gjadatw,gjadc7w,gjadcwh,gjadgd...</td>\n",
       "    </tr>\n",
       "    <tr>\n",
       "      <th>1</th>\n",
       "      <td>[]</td>\n",
       "      <td>False</td>\n",
       "      <td>MyLittleDeku</td>\n",
       "      <td>NaN</td>\n",
       "      <td>[]</td>\n",
       "      <td>NaN</td>\n",
       "      <td>text</td>\n",
       "      <td>t2_7dj62vj2</td>\n",
       "      <td>False</td>\n",
       "      <td>False</td>\n",
       "      <td>...</td>\n",
       "      <td>NaN</td>\n",
       "      <td>NaN</td>\n",
       "      <td>NaN</td>\n",
       "      <td>NaN</td>\n",
       "      <td>NaN</td>\n",
       "      <td>NaN</td>\n",
       "      <td>NaN</td>\n",
       "      <td>NaN</td>\n",
       "      <td>NaN</td>\n",
       "      <td>gjacn1r</td>\n",
       "    </tr>\n",
       "    <tr>\n",
       "      <th>2</th>\n",
       "      <td>[]</td>\n",
       "      <td>False</td>\n",
       "      <td>lilirucaarde12</td>\n",
       "      <td>NaN</td>\n",
       "      <td>[]</td>\n",
       "      <td>NaN</td>\n",
       "      <td>text</td>\n",
       "      <td>t2_6i04uaxw</td>\n",
       "      <td>False</td>\n",
       "      <td>False</td>\n",
       "      <td>...</td>\n",
       "      <td>NaN</td>\n",
       "      <td>NaN</td>\n",
       "      <td>NaN</td>\n",
       "      <td>NaN</td>\n",
       "      <td>NaN</td>\n",
       "      <td>NaN</td>\n",
       "      <td>NaN</td>\n",
       "      <td>NaN</td>\n",
       "      <td>NaN</td>\n",
       "      <td>gjac5fb,gjacdy5,gjaco45,gjasj4f,gjbxfeg</td>\n",
       "    </tr>\n",
       "  </tbody>\n",
       "</table>\n",
       "<p>3 rows × 89 columns</p>\n",
       "</div>"
      ],
      "text/plain": [
       "  all_awardings  allow_live_comments          author author_flair_css_class  \\\n",
       "0            []                False        nf_hades                    NaN   \n",
       "1            []                False    MyLittleDeku                    NaN   \n",
       "2            []                False  lilirucaarde12                    NaN   \n",
       "\n",
       "  author_flair_richtext author_flair_text author_flair_type author_fullname  \\\n",
       "0                    []               NaN              text       t2_hriq1b   \n",
       "1                    []               NaN              text     t2_7dj62vj2   \n",
       "2                    []               NaN              text     t2_6i04uaxw   \n",
       "\n",
       "  author_patreon_flair author_premium  ... author_cakeday  distinguished  \\\n",
       "0                False          False  ...            NaN            NaN   \n",
       "1                False          False  ...            NaN            NaN   \n",
       "2                False          False  ...            NaN            NaN   \n",
       "\n",
       "  suggested_sort  crosspost_parent  crosspost_parent_list category  \\\n",
       "0            NaN               NaN                    NaN      NaN   \n",
       "1            NaN               NaN                    NaN      NaN   \n",
       "2            NaN               NaN                    NaN      NaN   \n",
       "\n",
       "  top_awarded_type poll_data steward_reports  \\\n",
       "0              NaN       NaN             NaN   \n",
       "1              NaN       NaN             NaN   \n",
       "2              NaN       NaN             NaN   \n",
       "\n",
       "                                         comment_ids  \n",
       "0  gjacwx5,gjad2l6,gjadatw,gjadc7w,gjadcwh,gjadgd...  \n",
       "1                                            gjacn1r  \n",
       "2            gjac5fb,gjacdy5,gjaco45,gjasj4f,gjbxfeg  \n",
       "\n",
       "[3 rows x 89 columns]"
      ]
     },
     "execution_count": 9,
     "metadata": {},
     "output_type": "execute_result"
    }
   ],
   "source": [
    "# import test data into a dataframe\n",
    "posts_df = pd.read_csv(f'./test_data.csv', delimiter=';', header=0)\n",
    "posts_df.head(3)"
   ]
  },
  {
   "cell_type": "code",
   "execution_count": 10,
   "id": "qualified-legislation",
   "metadata": {},
   "outputs": [
    {
     "data": {
      "text/plain": [
       "2500"
      ]
     },
     "execution_count": 10,
     "metadata": {},
     "output_type": "execute_result"
    }
   ],
   "source": [
    "len(posts_df)"
   ]
  },
  {
   "cell_type": "markdown",
   "id": "unexpected-uzbekistan",
   "metadata": {},
   "source": [
    "The data in `posts_df`, contains 2500 submissions and their respective metadata extracted from a subreddit submission search, the comment_ids were added post-search with additional requests."
   ]
  },
  {
   "cell_type": "code",
   "execution_count": 11,
   "id": "charged-september",
   "metadata": {},
   "outputs": [
    {
     "data": {
      "text/plain": [
       "271"
      ]
     },
     "execution_count": 11,
     "metadata": {},
     "output_type": "execute_result"
    }
   ],
   "source": [
    "posts_df.loc[:, 'comment_ids'].isna().sum()"
   ]
  },
  {
   "cell_type": "code",
   "execution_count": 12,
   "id": "interpreted-dinner",
   "metadata": {
    "scrolled": true
   },
   "outputs": [],
   "source": [
    "# extract comment_ids\n",
    "comment_ids_str = list(posts_df.loc[posts_df['comment_ids'].notna(), 'comment_ids'])"
   ]
  },
  {
   "cell_type": "code",
   "execution_count": 13,
   "id": "municipal-witch",
   "metadata": {},
   "outputs": [
    {
     "name": "stdout",
     "output_type": "stream",
     "text": [
      "Ready to retrieve 43377 comments\n"
     ]
    }
   ],
   "source": [
    "# convert strings to lists\n",
    "comment_ids = []\n",
    "for c_str in comment_ids_str:\n",
    "    # exclude ending , since all entries include one\n",
    "    comment_ids.extend(c_str[:-1].split(\",\"))\n",
    "num_comments = len(comment_ids)\n",
    "print(f'Ready to retrieve {num_comments} comments')"
   ]
  },
  {
   "cell_type": "code",
   "execution_count": 14,
   "id": "twelve-chain",
   "metadata": {
    "scrolled": true
   },
   "outputs": [
    {
     "data": {
      "text/plain": [
       "['gjacwx5', 'gjad2l6', 'gjadatw']"
      ]
     },
     "execution_count": 14,
     "metadata": {},
     "output_type": "execute_result"
    }
   ],
   "source": [
    "comment_ids[:3]"
   ]
  },
  {
   "cell_type": "markdown",
   "id": "ceramic-ordinary",
   "metadata": {},
   "source": [
    "## Search Comments"
   ]
  },
  {
   "cell_type": "code",
   "execution_count": 15,
   "id": "leading-planet",
   "metadata": {
    "scrolled": true
   },
   "outputs": [
    {
     "name": "stdout",
     "output_type": "stream",
     "text": [
      "Total:: Success Rate: 100.00% - Requests: 60 - Batches: 6 - Items Remaining: 0\n",
      "Wall time: 1min 1s\n"
     ]
    }
   ],
   "source": [
    "%%time\n",
    "comments = api.search_comments(subreddit=\"science\", limit=6000)"
   ]
  },
  {
   "cell_type": "code",
   "execution_count": 16,
   "id": "sweet-dover",
   "metadata": {},
   "outputs": [
    {
     "data": {
      "text/plain": [
       "6000"
      ]
     },
     "execution_count": 16,
     "metadata": {},
     "output_type": "execute_result"
    }
   ],
   "source": [
    "len(comments)"
   ]
  },
  {
   "cell_type": "markdown",
   "id": "municipal-manner",
   "metadata": {},
   "source": [
    "### Using a query string"
   ]
  },
  {
   "cell_type": "code",
   "execution_count": 18,
   "id": "constitutional-modern",
   "metadata": {
    "scrolled": true
   },
   "outputs": [
    {
     "name": "stdout",
     "output_type": "stream",
     "text": [
      "Total:: Success Rate: 90.91% - Requests: 11 - Batches: 2 - Items Remaining: 0\n",
      "Wall time: 12.4 s\n"
     ]
    }
   ],
   "source": [
    "%%time\n",
    "# example with passing a query string\n",
    "comments = api.search_comments(q=\"GME\", subreddit=\"wallstreetbets\", limit=1000)"
   ]
  },
  {
   "cell_type": "code",
   "execution_count": 19,
   "id": "curious-livestock",
   "metadata": {},
   "outputs": [
    {
     "data": {
      "text/plain": [
       "1000"
      ]
     },
     "execution_count": 19,
     "metadata": {},
     "output_type": "execute_result"
    }
   ],
   "source": [
    "len(comments)"
   ]
  },
  {
   "cell_type": "markdown",
   "id": "liquid-sperm",
   "metadata": {},
   "source": [
    "Since the `search_comments` method returns a `Response` object which is a generator we store the comments in a list using the following code: "
   ]
  },
  {
   "cell_type": "code",
   "execution_count": 20,
   "id": "partial-hardware",
   "metadata": {},
   "outputs": [],
   "source": [
    "comment_list = [c for c in comments]"
   ]
  },
  {
   "cell_type": "markdown",
   "id": "interested-guide",
   "metadata": {},
   "source": [
    "## Search Comments by ID"
   ]
  },
  {
   "cell_type": "markdown",
   "id": "refined-peninsula",
   "metadata": {},
   "source": [
    "### Using a Single Comment ID"
   ]
  },
  {
   "cell_type": "code",
   "execution_count": 21,
   "id": "covered-processing",
   "metadata": {
    "scrolled": true
   },
   "outputs": [
    {
     "name": "stdout",
     "output_type": "stream",
     "text": [
      "Total:: Success Rate: 100.00% - Requests: 1 - Batches: 1 - Items Remaining: 0\n"
     ]
    }
   ],
   "source": [
    "comment = api.search_comments(ids=comment_ids[0])"
   ]
  },
  {
   "cell_type": "markdown",
   "id": "wired-mileage",
   "metadata": {},
   "source": [
    "### Using Multiple Comment IDs"
   ]
  },
  {
   "cell_type": "code",
   "execution_count": 22,
   "id": "neutral-shakespeare",
   "metadata": {
    "scrolled": true
   },
   "outputs": [
    {
     "name": "stdout",
     "output_type": "stream",
     "text": [
      "Total:: Success Rate: 68.75% - Requests: 64 - Batches: 7 - Items Remaining: 2229\n",
      "Wall time: 1min 9s\n"
     ]
    },
    {
     "name": "stderr",
     "output_type": "stream",
     "text": [
      "c:\\users\\mattp\\documents\\projects\\pmaw\\pmaw\\Request.py:119: UserWarning: 2229 items were not found in Pushshift\n",
      "  f'{self.limit} items were not found in Pushshift')\n"
     ]
    }
   ],
   "source": [
    "%%time\n",
    "comments_arr = api.search_comments(ids=comment_ids)"
   ]
  },
  {
   "cell_type": "markdown",
   "id": "tracked-dictionary",
   "metadata": {},
   "source": [
    "We can see that when searching for comments by id, that some items are no longer stored in Pushshift and could not be returned."
   ]
  },
  {
   "cell_type": "code",
   "execution_count": 23,
   "id": "valued-newton",
   "metadata": {},
   "outputs": [
    {
     "name": "stdout",
     "output_type": "stream",
     "text": [
      "41148 comments returned by Pushshift\n"
     ]
    }
   ],
   "source": [
    "print(f'{len(comments_arr)} comments returned by Pushshift')"
   ]
  },
  {
   "cell_type": "markdown",
   "id": "stylish-flight",
   "metadata": {},
   "source": [
    "### Save Comments to CSV"
   ]
  },
  {
   "cell_type": "code",
   "execution_count": 24,
   "id": "peaceful-sentence",
   "metadata": {},
   "outputs": [],
   "source": [
    "# convert comments to dataframe\n",
    "comment_list = [c for c in comments_arr]\n",
    "comments_df = pd.DataFrame(comment_list)"
   ]
  },
  {
   "cell_type": "code",
   "execution_count": 25,
   "id": "previous-missile",
   "metadata": {},
   "outputs": [
    {
     "data": {
      "text/html": [
       "<div>\n",
       "<style scoped>\n",
       "    .dataframe tbody tr th:only-of-type {\n",
       "        vertical-align: middle;\n",
       "    }\n",
       "\n",
       "    .dataframe tbody tr th {\n",
       "        vertical-align: top;\n",
       "    }\n",
       "\n",
       "    .dataframe thead th {\n",
       "        text-align: right;\n",
       "    }\n",
       "</style>\n",
       "<table border=\"1\" class=\"dataframe\">\n",
       "  <thead>\n",
       "    <tr style=\"text-align: right;\">\n",
       "      <th></th>\n",
       "      <th>all_awardings</th>\n",
       "      <th>approved_at_utc</th>\n",
       "      <th>associated_award</th>\n",
       "      <th>author</th>\n",
       "      <th>author_flair_background_color</th>\n",
       "      <th>author_flair_css_class</th>\n",
       "      <th>author_flair_richtext</th>\n",
       "      <th>author_flair_template_id</th>\n",
       "      <th>author_flair_text</th>\n",
       "      <th>author_flair_text_color</th>\n",
       "      <th>...</th>\n",
       "      <th>retrieved_on</th>\n",
       "      <th>score</th>\n",
       "      <th>send_replies</th>\n",
       "      <th>stickied</th>\n",
       "      <th>subreddit</th>\n",
       "      <th>subreddit_id</th>\n",
       "      <th>top_awarded_type</th>\n",
       "      <th>total_awards_received</th>\n",
       "      <th>treatment_tags</th>\n",
       "      <th>author_cakeday</th>\n",
       "    </tr>\n",
       "  </thead>\n",
       "  <tbody>\n",
       "    <tr>\n",
       "      <th>0</th>\n",
       "      <td>[]</td>\n",
       "      <td>None</td>\n",
       "      <td>None</td>\n",
       "      <td>AutoModerator</td>\n",
       "      <td>None</td>\n",
       "      <td>None</td>\n",
       "      <td>[]</td>\n",
       "      <td>None</td>\n",
       "      <td>None</td>\n",
       "      <td>None</td>\n",
       "      <td>...</td>\n",
       "      <td>1610731054</td>\n",
       "      <td>1</td>\n",
       "      <td>False</td>\n",
       "      <td>False</td>\n",
       "      <td>anime</td>\n",
       "      <td>t5_2qh22</td>\n",
       "      <td>None</td>\n",
       "      <td>0</td>\n",
       "      <td>[]</td>\n",
       "      <td>NaN</td>\n",
       "    </tr>\n",
       "    <tr>\n",
       "      <th>1</th>\n",
       "      <td>[]</td>\n",
       "      <td>None</td>\n",
       "      <td>None</td>\n",
       "      <td>Nihhrt</td>\n",
       "      <td></td>\n",
       "      <td>MAL</td>\n",
       "      <td>[]</td>\n",
       "      <td>None</td>\n",
       "      <td>http://myanimelist.net/animelist/Nihhrt</td>\n",
       "      <td>dark</td>\n",
       "      <td>...</td>\n",
       "      <td>1610731310</td>\n",
       "      <td>2</td>\n",
       "      <td>True</td>\n",
       "      <td>False</td>\n",
       "      <td>anime</td>\n",
       "      <td>t5_2qh22</td>\n",
       "      <td>None</td>\n",
       "      <td>0</td>\n",
       "      <td>[]</td>\n",
       "      <td>NaN</td>\n",
       "    </tr>\n",
       "    <tr>\n",
       "      <th>2</th>\n",
       "      <td>[]</td>\n",
       "      <td>None</td>\n",
       "      <td>None</td>\n",
       "      <td>[deleted]</td>\n",
       "      <td></td>\n",
       "      <td>None</td>\n",
       "      <td>NaN</td>\n",
       "      <td>None</td>\n",
       "      <td>None</td>\n",
       "      <td>dark</td>\n",
       "      <td>...</td>\n",
       "      <td>1610731314</td>\n",
       "      <td>1</td>\n",
       "      <td>True</td>\n",
       "      <td>False</td>\n",
       "      <td>anime</td>\n",
       "      <td>t5_2qh22</td>\n",
       "      <td>None</td>\n",
       "      <td>0</td>\n",
       "      <td>[]</td>\n",
       "      <td>NaN</td>\n",
       "    </tr>\n",
       "  </tbody>\n",
       "</table>\n",
       "<p>3 rows × 43 columns</p>\n",
       "</div>"
      ],
      "text/plain": [
       "  all_awardings approved_at_utc associated_award         author  \\\n",
       "0            []            None             None  AutoModerator   \n",
       "1            []            None             None         Nihhrt   \n",
       "2            []            None             None      [deleted]   \n",
       "\n",
       "  author_flair_background_color author_flair_css_class author_flair_richtext  \\\n",
       "0                          None                   None                    []   \n",
       "1                                                  MAL                    []   \n",
       "2                                                 None                   NaN   \n",
       "\n",
       "  author_flair_template_id                        author_flair_text  \\\n",
       "0                     None                                     None   \n",
       "1                     None  http://myanimelist.net/animelist/Nihhrt   \n",
       "2                     None                                     None   \n",
       "\n",
       "  author_flair_text_color  ... retrieved_on score send_replies stickied  \\\n",
       "0                    None  ...   1610731054     1        False    False   \n",
       "1                    dark  ...   1610731310     2         True    False   \n",
       "2                    dark  ...   1610731314     1         True    False   \n",
       "\n",
       "  subreddit subreddit_id top_awarded_type  total_awards_received  \\\n",
       "0     anime     t5_2qh22             None                      0   \n",
       "1     anime     t5_2qh22             None                      0   \n",
       "2     anime     t5_2qh22             None                      0   \n",
       "\n",
       "   treatment_tags author_cakeday  \n",
       "0              []            NaN  \n",
       "1              []            NaN  \n",
       "2              []            NaN  \n",
       "\n",
       "[3 rows x 43 columns]"
      ]
     },
     "execution_count": 25,
     "metadata": {},
     "output_type": "execute_result"
    }
   ],
   "source": [
    "comments_df.head(3)"
   ]
  },
  {
   "cell_type": "code",
   "execution_count": 26,
   "id": "novel-radar",
   "metadata": {},
   "outputs": [],
   "source": [
    "# store the extracted comments into a csv file for later use\n",
    "comments_df.to_csv('./test_comments.csv', header=True, index=False, columns=list(comments_df.axes[1]))"
   ]
  }
 ],
 "metadata": {
  "kernelspec": {
   "display_name": "Python 3",
   "language": "python",
   "name": "python3"
  },
  "language_info": {
   "codemirror_mode": {
    "name": "ipython",
    "version": 3
   },
   "file_extension": ".py",
   "mimetype": "text/x-python",
   "name": "python",
   "nbconvert_exporter": "python",
   "pygments_lexer": "ipython3",
   "version": "3.6.12"
  }
 },
 "nbformat": 4,
 "nbformat_minor": 5
}
