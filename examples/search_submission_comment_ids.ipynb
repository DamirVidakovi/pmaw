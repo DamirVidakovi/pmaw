{
 "cells": [
  {
   "cell_type": "markdown",
   "id": "systematic-failure",
   "metadata": {},
   "source": [
    "# Find Comment IDs from Submission IDs\n",
    "In this notebook, I will show you how to use the `search_submission_comment_ids` method from `PMAW` to retrieve all the Reddit comment IDs for an array of submission IDs. You can view details about this endpoint in the Pushshift [documentation](https://github.com/pushshift/api#get-all-comment-ids-for-a-particular-submission)."
   ]
  },
  {
   "cell_type": "code",
   "execution_count": 1,
   "id": "equivalent-employer",
   "metadata": {},
   "outputs": [],
   "source": [
    "import pandas as pd\n",
    "from pmaw import PushshiftAPI"
   ]
  },
  {
   "cell_type": "code",
   "execution_count": 2,
   "id": "weighted-robinson",
   "metadata": {},
   "outputs": [],
   "source": [
    "# instantiate\n",
    "api = PushshiftAPI()"
   ]
  },
  {
   "cell_type": "markdown",
   "id": "related-federation",
   "metadata": {},
   "source": [
    "## Data Preparation"
   ]
  },
  {
   "cell_type": "code",
   "execution_count": 3,
   "id": "frank-group",
   "metadata": {},
   "outputs": [
    {
     "data": {
      "text/html": [
       "<div>\n",
       "<style scoped>\n",
       "    .dataframe tbody tr th:only-of-type {\n",
       "        vertical-align: middle;\n",
       "    }\n",
       "\n",
       "    .dataframe tbody tr th {\n",
       "        vertical-align: top;\n",
       "    }\n",
       "\n",
       "    .dataframe thead th {\n",
       "        text-align: right;\n",
       "    }\n",
       "</style>\n",
       "<table border=\"1\" class=\"dataframe\">\n",
       "  <thead>\n",
       "    <tr style=\"text-align: right;\">\n",
       "      <th></th>\n",
       "      <th>all_awardings</th>\n",
       "      <th>allow_live_comments</th>\n",
       "      <th>author</th>\n",
       "      <th>author_flair_css_class</th>\n",
       "      <th>author_flair_richtext</th>\n",
       "      <th>author_flair_text</th>\n",
       "      <th>author_flair_type</th>\n",
       "      <th>author_fullname</th>\n",
       "      <th>author_patreon_flair</th>\n",
       "      <th>author_premium</th>\n",
       "      <th>...</th>\n",
       "      <th>author_cakeday</th>\n",
       "      <th>distinguished</th>\n",
       "      <th>suggested_sort</th>\n",
       "      <th>crosspost_parent</th>\n",
       "      <th>crosspost_parent_list</th>\n",
       "      <th>category</th>\n",
       "      <th>top_awarded_type</th>\n",
       "      <th>poll_data</th>\n",
       "      <th>steward_reports</th>\n",
       "      <th>comment_ids</th>\n",
       "    </tr>\n",
       "  </thead>\n",
       "  <tbody>\n",
       "    <tr>\n",
       "      <th>0</th>\n",
       "      <td>[]</td>\n",
       "      <td>False</td>\n",
       "      <td>nf_hades</td>\n",
       "      <td>NaN</td>\n",
       "      <td>[]</td>\n",
       "      <td>NaN</td>\n",
       "      <td>text</td>\n",
       "      <td>t2_hriq1b</td>\n",
       "      <td>False</td>\n",
       "      <td>False</td>\n",
       "      <td>...</td>\n",
       "      <td>NaN</td>\n",
       "      <td>NaN</td>\n",
       "      <td>NaN</td>\n",
       "      <td>NaN</td>\n",
       "      <td>NaN</td>\n",
       "      <td>NaN</td>\n",
       "      <td>NaN</td>\n",
       "      <td>NaN</td>\n",
       "      <td>NaN</td>\n",
       "      <td>gjacwx5,gjad2l6,gjadatw,gjadc7w,gjadcwh,gjadgd...</td>\n",
       "    </tr>\n",
       "    <tr>\n",
       "      <th>1</th>\n",
       "      <td>[]</td>\n",
       "      <td>False</td>\n",
       "      <td>MyLittleDeku</td>\n",
       "      <td>NaN</td>\n",
       "      <td>[]</td>\n",
       "      <td>NaN</td>\n",
       "      <td>text</td>\n",
       "      <td>t2_7dj62vj2</td>\n",
       "      <td>False</td>\n",
       "      <td>False</td>\n",
       "      <td>...</td>\n",
       "      <td>NaN</td>\n",
       "      <td>NaN</td>\n",
       "      <td>NaN</td>\n",
       "      <td>NaN</td>\n",
       "      <td>NaN</td>\n",
       "      <td>NaN</td>\n",
       "      <td>NaN</td>\n",
       "      <td>NaN</td>\n",
       "      <td>NaN</td>\n",
       "      <td>gjacn1r,</td>\n",
       "    </tr>\n",
       "    <tr>\n",
       "      <th>2</th>\n",
       "      <td>[]</td>\n",
       "      <td>False</td>\n",
       "      <td>lilirucaarde12</td>\n",
       "      <td>NaN</td>\n",
       "      <td>[]</td>\n",
       "      <td>NaN</td>\n",
       "      <td>text</td>\n",
       "      <td>t2_6i04uaxw</td>\n",
       "      <td>False</td>\n",
       "      <td>False</td>\n",
       "      <td>...</td>\n",
       "      <td>NaN</td>\n",
       "      <td>NaN</td>\n",
       "      <td>NaN</td>\n",
       "      <td>NaN</td>\n",
       "      <td>NaN</td>\n",
       "      <td>NaN</td>\n",
       "      <td>NaN</td>\n",
       "      <td>NaN</td>\n",
       "      <td>NaN</td>\n",
       "      <td>gjac5fb,gjacdy5,gjaco45,gjasj4f,gjbxfeg,</td>\n",
       "    </tr>\n",
       "    <tr>\n",
       "      <th>3</th>\n",
       "      <td>[]</td>\n",
       "      <td>False</td>\n",
       "      <td>[deleted]</td>\n",
       "      <td>NaN</td>\n",
       "      <td>NaN</td>\n",
       "      <td>NaN</td>\n",
       "      <td>NaN</td>\n",
       "      <td>NaN</td>\n",
       "      <td>NaN</td>\n",
       "      <td>NaN</td>\n",
       "      <td>...</td>\n",
       "      <td>NaN</td>\n",
       "      <td>NaN</td>\n",
       "      <td>NaN</td>\n",
       "      <td>NaN</td>\n",
       "      <td>NaN</td>\n",
       "      <td>NaN</td>\n",
       "      <td>NaN</td>\n",
       "      <td>NaN</td>\n",
       "      <td>NaN</td>\n",
       "      <td>gjac9d6,</td>\n",
       "    </tr>\n",
       "    <tr>\n",
       "      <th>4</th>\n",
       "      <td>[]</td>\n",
       "      <td>False</td>\n",
       "      <td>sirdimpleton</td>\n",
       "      <td>NaN</td>\n",
       "      <td>[]</td>\n",
       "      <td>NaN</td>\n",
       "      <td>text</td>\n",
       "      <td>t2_bznmn4i</td>\n",
       "      <td>False</td>\n",
       "      <td>False</td>\n",
       "      <td>...</td>\n",
       "      <td>NaN</td>\n",
       "      <td>NaN</td>\n",
       "      <td>NaN</td>\n",
       "      <td>NaN</td>\n",
       "      <td>NaN</td>\n",
       "      <td>NaN</td>\n",
       "      <td>NaN</td>\n",
       "      <td>NaN</td>\n",
       "      <td>NaN</td>\n",
       "      <td>gjaocmg,gjb2jsj,gjbisrw,gjbjbk8,</td>\n",
       "    </tr>\n",
       "  </tbody>\n",
       "</table>\n",
       "<p>5 rows × 89 columns</p>\n",
       "</div>"
      ],
      "text/plain": [
       "  all_awardings  allow_live_comments          author author_flair_css_class  \\\n",
       "0            []                False        nf_hades                    NaN   \n",
       "1            []                False    MyLittleDeku                    NaN   \n",
       "2            []                False  lilirucaarde12                    NaN   \n",
       "3            []                False       [deleted]                    NaN   \n",
       "4            []                False    sirdimpleton                    NaN   \n",
       "\n",
       "  author_flair_richtext author_flair_text author_flair_type author_fullname  \\\n",
       "0                    []               NaN              text       t2_hriq1b   \n",
       "1                    []               NaN              text     t2_7dj62vj2   \n",
       "2                    []               NaN              text     t2_6i04uaxw   \n",
       "3                   NaN               NaN               NaN             NaN   \n",
       "4                    []               NaN              text      t2_bznmn4i   \n",
       "\n",
       "  author_patreon_flair author_premium  ... author_cakeday  distinguished  \\\n",
       "0                False          False  ...            NaN            NaN   \n",
       "1                False          False  ...            NaN            NaN   \n",
       "2                False          False  ...            NaN            NaN   \n",
       "3                  NaN            NaN  ...            NaN            NaN   \n",
       "4                False          False  ...            NaN            NaN   \n",
       "\n",
       "  suggested_sort  crosspost_parent  crosspost_parent_list category  \\\n",
       "0            NaN               NaN                    NaN      NaN   \n",
       "1            NaN               NaN                    NaN      NaN   \n",
       "2            NaN               NaN                    NaN      NaN   \n",
       "3            NaN               NaN                    NaN      NaN   \n",
       "4            NaN               NaN                    NaN      NaN   \n",
       "\n",
       "  top_awarded_type poll_data steward_reports  \\\n",
       "0              NaN       NaN             NaN   \n",
       "1              NaN       NaN             NaN   \n",
       "2              NaN       NaN             NaN   \n",
       "3              NaN       NaN             NaN   \n",
       "4              NaN       NaN             NaN   \n",
       "\n",
       "                                         comment_ids  \n",
       "0  gjacwx5,gjad2l6,gjadatw,gjadc7w,gjadcwh,gjadgd...  \n",
       "1                                           gjacn1r,  \n",
       "2           gjac5fb,gjacdy5,gjaco45,gjasj4f,gjbxfeg,  \n",
       "3                                           gjac9d6,  \n",
       "4                   gjaocmg,gjb2jsj,gjbisrw,gjbjbk8,  \n",
       "\n",
       "[5 rows x 89 columns]"
      ]
     },
     "execution_count": 3,
     "metadata": {},
     "output_type": "execute_result"
    }
   ],
   "source": [
    "# import test data into a dataframe\n",
    "posts_df = pd.read_csv(f'./test_data.csv', delimiter=';', header=0)\n",
    "posts_df.head(5)"
   ]
  },
  {
   "cell_type": "code",
   "execution_count": 4,
   "id": "labeled-diana",
   "metadata": {},
   "outputs": [
    {
     "data": {
      "text/plain": [
       "2500"
      ]
     },
     "execution_count": 4,
     "metadata": {},
     "output_type": "execute_result"
    }
   ],
   "source": [
    "len(posts_df)"
   ]
  },
  {
   "cell_type": "markdown",
   "id": "returning-burden",
   "metadata": {},
   "source": [
    "The data in `posts_df`, contains 2500 submissions and their respective metadata extracted from a subreddit submission search, the `comment_ids` was added post-search with additional requests."
   ]
  },
  {
   "cell_type": "code",
   "execution_count": 5,
   "id": "floral-campus",
   "metadata": {},
   "outputs": [
    {
     "data": {
      "text/plain": [
       "['kxi2w8',\n",
       " 'kxi2g1',\n",
       " 'kxhzrl',\n",
       " 'kxhyh6',\n",
       " 'kxhwh0',\n",
       " 'kxhv53',\n",
       " 'kxhm7b',\n",
       " 'kxhm3s',\n",
       " 'kxhg37',\n",
       " 'kxhak9']"
      ]
     },
     "execution_count": 5,
     "metadata": {},
     "output_type": "execute_result"
    }
   ],
   "source": [
    "# create submission ID list\n",
    "post_ids = list(posts_df.loc[:, 'id'])\n",
    "post_ids[:10]"
   ]
  },
  {
   "cell_type": "markdown",
   "id": "ultimate-gabriel",
   "metadata": {},
   "source": [
    "## Comment IDs for a Single Submission"
   ]
  },
  {
   "cell_type": "code",
   "execution_count": 6,
   "id": "monthly-pillow",
   "metadata": {},
   "outputs": [
    {
     "name": "stdout",
     "output_type": "stream",
     "text": [
      "Total Success Rate: 100.00% -- Total Reqs: 1 -- Num Retries: 0\n"
     ]
    }
   ],
   "source": [
    "comment_id_dict = api.search_submission_comment_ids(ids=post_ids[0])"
   ]
  },
  {
   "cell_type": "code",
   "execution_count": 7,
   "id": "corrected-praise",
   "metadata": {
    "scrolled": true
   },
   "outputs": [
    {
     "data": {
      "text/plain": [
       "{'kxi2w8': ['gjacwx5',\n",
       "  'gjad2l6',\n",
       "  'gjadatw',\n",
       "  'gjadc7w',\n",
       "  'gjadcwh',\n",
       "  'gjadgd7',\n",
       "  'gjadlbc',\n",
       "  'gjadnoc',\n",
       "  'gjadog1',\n",
       "  'gjadphb',\n",
       "  'gjadtz3',\n",
       "  'gjaduck',\n",
       "  'gjadxa0',\n",
       "  'gjaeb3p',\n",
       "  'gjaeb5o',\n",
       "  'gjaeg5d',\n",
       "  'gjaegdn',\n",
       "  'gjaemkt',\n",
       "  'gjaenva',\n",
       "  'gjaerpm',\n",
       "  'gjaex2y',\n",
       "  'gjaf5nv',\n",
       "  'gjaim0d',\n",
       "  'gjapx5s',\n",
       "  'gjaqruo',\n",
       "  'gjarqic']}"
      ]
     },
     "execution_count": 7,
     "metadata": {},
     "output_type": "execute_result"
    }
   ],
   "source": [
    "comment_id_dict"
   ]
  },
  {
   "cell_type": "markdown",
   "id": "absolute-cabin",
   "metadata": {},
   "source": [
    "## Comment IDs for Multiple Submissions"
   ]
  },
  {
   "cell_type": "code",
   "execution_count": 8,
   "id": "criminal-perspective",
   "metadata": {
    "scrolled": true
   },
   "outputs": [
    {
     "name": "stdout",
     "output_type": "stream",
     "text": [
      "Total Success Rate: 89.76% -- Total Reqs: 2500 -- Num Retries: 0\n",
      "Total Success Rate: 89.44% -- Total Reqs: 2756 -- Num Retries: 1\n",
      "Total Success Rate: 89.32% -- Total Reqs: 2791 -- Num Retries: 2\n",
      "Total Success Rate: 89.35% -- Total Reqs: 2798 -- Num Retries: 3\n",
      "Wall time: 41min 55s\n"
     ]
    }
   ],
   "source": [
    "%%time\n",
    "comment_id_dict = api.search_submission_comment_ids(ids=post_ids)"
   ]
  },
  {
   "cell_type": "markdown",
   "id": "hybrid-official",
   "metadata": {},
   "source": [
    "At a the default rate limit of 60 requests per minute, which is equal to 1 second per request, we would expect 2500 requests to take 41min 40s. With a completion time of 41min 55s, which includes rejected requests (89.35% success rate), we achieve a rate of 1.008 seconds per request, 0.8% slower than expected."
   ]
  },
  {
   "cell_type": "markdown",
   "id": "contained-microwave",
   "metadata": {},
   "source": [
    "### Save Comment IDs"
   ]
  },
  {
   "cell_type": "code",
   "execution_count": 13,
   "id": "tough-stable",
   "metadata": {},
   "outputs": [],
   "source": [
    "# convert arrays to comma seperated strings\n",
    "for index, post_id in enumerate(posts_df['id']):\n",
    "    comment_arr = comment_id_dict.get(post_id, [])\n",
    "    posts_df.loc[index, 'comment_ids'] = \",\".join(comment_arr)"
   ]
  },
  {
   "cell_type": "code",
   "execution_count": 15,
   "id": "competent-manhattan",
   "metadata": {
    "scrolled": true
   },
   "outputs": [
    {
     "data": {
      "text/html": [
       "<div>\n",
       "<style scoped>\n",
       "    .dataframe tbody tr th:only-of-type {\n",
       "        vertical-align: middle;\n",
       "    }\n",
       "\n",
       "    .dataframe tbody tr th {\n",
       "        vertical-align: top;\n",
       "    }\n",
       "\n",
       "    .dataframe thead th {\n",
       "        text-align: right;\n",
       "    }\n",
       "</style>\n",
       "<table border=\"1\" class=\"dataframe\">\n",
       "  <thead>\n",
       "    <tr style=\"text-align: right;\">\n",
       "      <th></th>\n",
       "      <th>all_awardings</th>\n",
       "      <th>allow_live_comments</th>\n",
       "      <th>author</th>\n",
       "      <th>author_flair_css_class</th>\n",
       "      <th>author_flair_richtext</th>\n",
       "      <th>author_flair_text</th>\n",
       "      <th>author_flair_type</th>\n",
       "      <th>author_fullname</th>\n",
       "      <th>author_patreon_flair</th>\n",
       "      <th>author_premium</th>\n",
       "      <th>...</th>\n",
       "      <th>author_cakeday</th>\n",
       "      <th>distinguished</th>\n",
       "      <th>suggested_sort</th>\n",
       "      <th>crosspost_parent</th>\n",
       "      <th>crosspost_parent_list</th>\n",
       "      <th>category</th>\n",
       "      <th>top_awarded_type</th>\n",
       "      <th>poll_data</th>\n",
       "      <th>steward_reports</th>\n",
       "      <th>comment_ids</th>\n",
       "    </tr>\n",
       "  </thead>\n",
       "  <tbody>\n",
       "    <tr>\n",
       "      <th>0</th>\n",
       "      <td>[]</td>\n",
       "      <td>False</td>\n",
       "      <td>nf_hades</td>\n",
       "      <td>NaN</td>\n",
       "      <td>[]</td>\n",
       "      <td>NaN</td>\n",
       "      <td>text</td>\n",
       "      <td>t2_hriq1b</td>\n",
       "      <td>False</td>\n",
       "      <td>False</td>\n",
       "      <td>...</td>\n",
       "      <td>NaN</td>\n",
       "      <td>NaN</td>\n",
       "      <td>NaN</td>\n",
       "      <td>NaN</td>\n",
       "      <td>NaN</td>\n",
       "      <td>NaN</td>\n",
       "      <td>NaN</td>\n",
       "      <td>NaN</td>\n",
       "      <td>NaN</td>\n",
       "      <td>gjacwx5,gjad2l6,gjadatw,gjadc7w,gjadcwh,gjadgd...</td>\n",
       "    </tr>\n",
       "    <tr>\n",
       "      <th>1</th>\n",
       "      <td>[]</td>\n",
       "      <td>False</td>\n",
       "      <td>MyLittleDeku</td>\n",
       "      <td>NaN</td>\n",
       "      <td>[]</td>\n",
       "      <td>NaN</td>\n",
       "      <td>text</td>\n",
       "      <td>t2_7dj62vj2</td>\n",
       "      <td>False</td>\n",
       "      <td>False</td>\n",
       "      <td>...</td>\n",
       "      <td>NaN</td>\n",
       "      <td>NaN</td>\n",
       "      <td>NaN</td>\n",
       "      <td>NaN</td>\n",
       "      <td>NaN</td>\n",
       "      <td>NaN</td>\n",
       "      <td>NaN</td>\n",
       "      <td>NaN</td>\n",
       "      <td>NaN</td>\n",
       "      <td>gjacn1r</td>\n",
       "    </tr>\n",
       "    <tr>\n",
       "      <th>2</th>\n",
       "      <td>[]</td>\n",
       "      <td>False</td>\n",
       "      <td>lilirucaarde12</td>\n",
       "      <td>NaN</td>\n",
       "      <td>[]</td>\n",
       "      <td>NaN</td>\n",
       "      <td>text</td>\n",
       "      <td>t2_6i04uaxw</td>\n",
       "      <td>False</td>\n",
       "      <td>False</td>\n",
       "      <td>...</td>\n",
       "      <td>NaN</td>\n",
       "      <td>NaN</td>\n",
       "      <td>NaN</td>\n",
       "      <td>NaN</td>\n",
       "      <td>NaN</td>\n",
       "      <td>NaN</td>\n",
       "      <td>NaN</td>\n",
       "      <td>NaN</td>\n",
       "      <td>NaN</td>\n",
       "      <td>gjac5fb,gjacdy5,gjaco45,gjasj4f,gjbxfeg</td>\n",
       "    </tr>\n",
       "  </tbody>\n",
       "</table>\n",
       "<p>3 rows × 89 columns</p>\n",
       "</div>"
      ],
      "text/plain": [
       "  all_awardings  allow_live_comments          author author_flair_css_class  \\\n",
       "0            []                False        nf_hades                    NaN   \n",
       "1            []                False    MyLittleDeku                    NaN   \n",
       "2            []                False  lilirucaarde12                    NaN   \n",
       "\n",
       "  author_flair_richtext author_flair_text author_flair_type author_fullname  \\\n",
       "0                    []               NaN              text       t2_hriq1b   \n",
       "1                    []               NaN              text     t2_7dj62vj2   \n",
       "2                    []               NaN              text     t2_6i04uaxw   \n",
       "\n",
       "  author_patreon_flair author_premium  ... author_cakeday  distinguished  \\\n",
       "0                False          False  ...            NaN            NaN   \n",
       "1                False          False  ...            NaN            NaN   \n",
       "2                False          False  ...            NaN            NaN   \n",
       "\n",
       "  suggested_sort  crosspost_parent  crosspost_parent_list category  \\\n",
       "0            NaN               NaN                    NaN      NaN   \n",
       "1            NaN               NaN                    NaN      NaN   \n",
       "2            NaN               NaN                    NaN      NaN   \n",
       "\n",
       "  top_awarded_type poll_data steward_reports  \\\n",
       "0              NaN       NaN             NaN   \n",
       "1              NaN       NaN             NaN   \n",
       "2              NaN       NaN             NaN   \n",
       "\n",
       "                                         comment_ids  \n",
       "0  gjacwx5,gjad2l6,gjadatw,gjadc7w,gjadcwh,gjadgd...  \n",
       "1                                            gjacn1r  \n",
       "2            gjac5fb,gjacdy5,gjaco45,gjasj4f,gjbxfeg  \n",
       "\n",
       "[3 rows x 89 columns]"
      ]
     },
     "execution_count": 15,
     "metadata": {},
     "output_type": "execute_result"
    }
   ],
   "source": [
    "posts_df.head(3)"
   ]
  },
  {
   "cell_type": "code",
   "execution_count": 16,
   "id": "italian-science",
   "metadata": {},
   "outputs": [],
   "source": [
    "posts_df.to_csv('./test_data.csv', sep=';', header=True, index=False, columns=list(posts_df.axes[1]))"
   ]
  }
 ],
 "metadata": {
  "kernelspec": {
   "display_name": "Python 3",
   "language": "python",
   "name": "python3"
  },
  "language_info": {
   "codemirror_mode": {
    "name": "ipython",
    "version": 3
   },
   "file_extension": ".py",
   "mimetype": "text/x-python",
   "name": "python",
   "nbconvert_exporter": "python",
   "pygments_lexer": "ipython3",
   "version": "3.6.12"
  }
 },
 "nbformat": 4,
 "nbformat_minor": 5
}
