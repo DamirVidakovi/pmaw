{
 "cells": [
  {
   "cell_type": "markdown",
   "id": "monetary-sphere",
   "metadata": {},
   "source": [
    "# Search Submissions\n",
    "In this notebook, I will show you how to use the method `search_submissions` from `PMAW` to retrieve submissions from the Reddit Pushshift API. To view more details about the Search Submissions endpoint you can view the Pushshift [documentation](https://github.com/pushshift/api#searching-submissions)."
   ]
  },
  {
   "cell_type": "code",
   "execution_count": 1,
   "id": "binary-marketplace",
   "metadata": {},
   "outputs": [],
   "source": [
    "import pandas as pd\n",
    "from pmaw import PushshiftAPI"
   ]
  },
  {
   "cell_type": "code",
   "execution_count": 2,
   "id": "interim-radio",
   "metadata": {},
   "outputs": [],
   "source": [
    "# instantiate\n",
    "api = PushshiftAPI()"
   ]
  },
  {
   "cell_type": "markdown",
   "id": "bacterial-field",
   "metadata": {},
   "source": [
    "## Data Preparation"
   ]
  },
  {
   "cell_type": "code",
   "execution_count": 3,
   "id": "commercial-height",
   "metadata": {},
   "outputs": [
    {
     "data": {
      "text/html": [
       "<div>\n",
       "<style scoped>\n",
       "    .dataframe tbody tr th:only-of-type {\n",
       "        vertical-align: middle;\n",
       "    }\n",
       "\n",
       "    .dataframe tbody tr th {\n",
       "        vertical-align: top;\n",
       "    }\n",
       "\n",
       "    .dataframe thead th {\n",
       "        text-align: right;\n",
       "    }\n",
       "</style>\n",
       "<table border=\"1\" class=\"dataframe\">\n",
       "  <thead>\n",
       "    <tr style=\"text-align: right;\">\n",
       "      <th></th>\n",
       "      <th>all_awardings</th>\n",
       "      <th>allow_live_comments</th>\n",
       "      <th>author</th>\n",
       "      <th>author_flair_css_class</th>\n",
       "      <th>author_flair_richtext</th>\n",
       "      <th>author_flair_text</th>\n",
       "      <th>author_flair_type</th>\n",
       "      <th>author_fullname</th>\n",
       "      <th>author_patreon_flair</th>\n",
       "      <th>author_premium</th>\n",
       "      <th>...</th>\n",
       "      <th>author_cakeday</th>\n",
       "      <th>distinguished</th>\n",
       "      <th>suggested_sort</th>\n",
       "      <th>crosspost_parent</th>\n",
       "      <th>crosspost_parent_list</th>\n",
       "      <th>category</th>\n",
       "      <th>top_awarded_type</th>\n",
       "      <th>poll_data</th>\n",
       "      <th>steward_reports</th>\n",
       "      <th>comment_ids</th>\n",
       "    </tr>\n",
       "  </thead>\n",
       "  <tbody>\n",
       "    <tr>\n",
       "      <th>0</th>\n",
       "      <td>[]</td>\n",
       "      <td>False</td>\n",
       "      <td>nf_hades</td>\n",
       "      <td>NaN</td>\n",
       "      <td>[]</td>\n",
       "      <td>NaN</td>\n",
       "      <td>text</td>\n",
       "      <td>t2_hriq1b</td>\n",
       "      <td>False</td>\n",
       "      <td>False</td>\n",
       "      <td>...</td>\n",
       "      <td>NaN</td>\n",
       "      <td>NaN</td>\n",
       "      <td>NaN</td>\n",
       "      <td>NaN</td>\n",
       "      <td>NaN</td>\n",
       "      <td>NaN</td>\n",
       "      <td>NaN</td>\n",
       "      <td>NaN</td>\n",
       "      <td>NaN</td>\n",
       "      <td>gjacwx5,gjad2l6,gjadatw,gjadc7w,gjadcwh,gjadgd...</td>\n",
       "    </tr>\n",
       "    <tr>\n",
       "      <th>1</th>\n",
       "      <td>[]</td>\n",
       "      <td>False</td>\n",
       "      <td>MyLittleDeku</td>\n",
       "      <td>NaN</td>\n",
       "      <td>[]</td>\n",
       "      <td>NaN</td>\n",
       "      <td>text</td>\n",
       "      <td>t2_7dj62vj2</td>\n",
       "      <td>False</td>\n",
       "      <td>False</td>\n",
       "      <td>...</td>\n",
       "      <td>NaN</td>\n",
       "      <td>NaN</td>\n",
       "      <td>NaN</td>\n",
       "      <td>NaN</td>\n",
       "      <td>NaN</td>\n",
       "      <td>NaN</td>\n",
       "      <td>NaN</td>\n",
       "      <td>NaN</td>\n",
       "      <td>NaN</td>\n",
       "      <td>gjacn1r</td>\n",
       "    </tr>\n",
       "    <tr>\n",
       "      <th>2</th>\n",
       "      <td>[]</td>\n",
       "      <td>False</td>\n",
       "      <td>lilirucaarde12</td>\n",
       "      <td>NaN</td>\n",
       "      <td>[]</td>\n",
       "      <td>NaN</td>\n",
       "      <td>text</td>\n",
       "      <td>t2_6i04uaxw</td>\n",
       "      <td>False</td>\n",
       "      <td>False</td>\n",
       "      <td>...</td>\n",
       "      <td>NaN</td>\n",
       "      <td>NaN</td>\n",
       "      <td>NaN</td>\n",
       "      <td>NaN</td>\n",
       "      <td>NaN</td>\n",
       "      <td>NaN</td>\n",
       "      <td>NaN</td>\n",
       "      <td>NaN</td>\n",
       "      <td>NaN</td>\n",
       "      <td>gjac5fb,gjacdy5,gjaco45,gjasj4f,gjbxfeg</td>\n",
       "    </tr>\n",
       "    <tr>\n",
       "      <th>3</th>\n",
       "      <td>[]</td>\n",
       "      <td>False</td>\n",
       "      <td>[deleted]</td>\n",
       "      <td>NaN</td>\n",
       "      <td>NaN</td>\n",
       "      <td>NaN</td>\n",
       "      <td>NaN</td>\n",
       "      <td>NaN</td>\n",
       "      <td>NaN</td>\n",
       "      <td>NaN</td>\n",
       "      <td>...</td>\n",
       "      <td>NaN</td>\n",
       "      <td>NaN</td>\n",
       "      <td>NaN</td>\n",
       "      <td>NaN</td>\n",
       "      <td>NaN</td>\n",
       "      <td>NaN</td>\n",
       "      <td>NaN</td>\n",
       "      <td>NaN</td>\n",
       "      <td>NaN</td>\n",
       "      <td>gjac9d6</td>\n",
       "    </tr>\n",
       "    <tr>\n",
       "      <th>4</th>\n",
       "      <td>[]</td>\n",
       "      <td>False</td>\n",
       "      <td>sirdimpleton</td>\n",
       "      <td>NaN</td>\n",
       "      <td>[]</td>\n",
       "      <td>NaN</td>\n",
       "      <td>text</td>\n",
       "      <td>t2_bznmn4i</td>\n",
       "      <td>False</td>\n",
       "      <td>False</td>\n",
       "      <td>...</td>\n",
       "      <td>NaN</td>\n",
       "      <td>NaN</td>\n",
       "      <td>NaN</td>\n",
       "      <td>NaN</td>\n",
       "      <td>NaN</td>\n",
       "      <td>NaN</td>\n",
       "      <td>NaN</td>\n",
       "      <td>NaN</td>\n",
       "      <td>NaN</td>\n",
       "      <td>gjaocmg,gjb2jsj,gjbisrw,gjbjbk8</td>\n",
       "    </tr>\n",
       "  </tbody>\n",
       "</table>\n",
       "<p>5 rows × 89 columns</p>\n",
       "</div>"
      ],
      "text/plain": [
       "  all_awardings  allow_live_comments          author author_flair_css_class  \\\n",
       "0            []                False        nf_hades                    NaN   \n",
       "1            []                False    MyLittleDeku                    NaN   \n",
       "2            []                False  lilirucaarde12                    NaN   \n",
       "3            []                False       [deleted]                    NaN   \n",
       "4            []                False    sirdimpleton                    NaN   \n",
       "\n",
       "  author_flair_richtext author_flair_text author_flair_type author_fullname  \\\n",
       "0                    []               NaN              text       t2_hriq1b   \n",
       "1                    []               NaN              text     t2_7dj62vj2   \n",
       "2                    []               NaN              text     t2_6i04uaxw   \n",
       "3                   NaN               NaN               NaN             NaN   \n",
       "4                    []               NaN              text      t2_bznmn4i   \n",
       "\n",
       "  author_patreon_flair author_premium  ... author_cakeday  distinguished  \\\n",
       "0                False          False  ...            NaN            NaN   \n",
       "1                False          False  ...            NaN            NaN   \n",
       "2                False          False  ...            NaN            NaN   \n",
       "3                  NaN            NaN  ...            NaN            NaN   \n",
       "4                False          False  ...            NaN            NaN   \n",
       "\n",
       "  suggested_sort  crosspost_parent  crosspost_parent_list category  \\\n",
       "0            NaN               NaN                    NaN      NaN   \n",
       "1            NaN               NaN                    NaN      NaN   \n",
       "2            NaN               NaN                    NaN      NaN   \n",
       "3            NaN               NaN                    NaN      NaN   \n",
       "4            NaN               NaN                    NaN      NaN   \n",
       "\n",
       "  top_awarded_type poll_data steward_reports  \\\n",
       "0              NaN       NaN             NaN   \n",
       "1              NaN       NaN             NaN   \n",
       "2              NaN       NaN             NaN   \n",
       "3              NaN       NaN             NaN   \n",
       "4              NaN       NaN             NaN   \n",
       "\n",
       "                                         comment_ids  \n",
       "0  gjacwx5,gjad2l6,gjadatw,gjadc7w,gjadcwh,gjadgd...  \n",
       "1                                            gjacn1r  \n",
       "2            gjac5fb,gjacdy5,gjaco45,gjasj4f,gjbxfeg  \n",
       "3                                            gjac9d6  \n",
       "4                    gjaocmg,gjb2jsj,gjbisrw,gjbjbk8  \n",
       "\n",
       "[5 rows x 89 columns]"
      ]
     },
     "execution_count": 3,
     "metadata": {},
     "output_type": "execute_result"
    }
   ],
   "source": [
    "# import test data into a dataframe\n",
    "posts_df = pd.read_csv(f'./test_data.csv', delimiter=';', header=0)\n",
    "posts_df.head(5)"
   ]
  },
  {
   "cell_type": "code",
   "execution_count": 4,
   "id": "desirable-register",
   "metadata": {},
   "outputs": [
    {
     "data": {
      "text/plain": [
       "2500"
      ]
     },
     "execution_count": 4,
     "metadata": {},
     "output_type": "execute_result"
    }
   ],
   "source": [
    "len(posts_df)"
   ]
  },
  {
   "cell_type": "markdown",
   "id": "realistic-glasgow",
   "metadata": {},
   "source": [
    "The data in `posts_df`, contains 2500 submissions and their respective metadata extracted from a subreddit submission search, the comment_ids were added post-search with additional requests. For the purpose of demonstration, submission ids will be used from this dataframe, even though the data has already been retrieved."
   ]
  },
  {
   "cell_type": "code",
   "execution_count": 5,
   "id": "underlying-bradford",
   "metadata": {},
   "outputs": [
    {
     "data": {
      "text/plain": [
       "['kxi2w8', 'kxi2g1', 'kxhzrl']"
      ]
     },
     "execution_count": 5,
     "metadata": {},
     "output_type": "execute_result"
    }
   ],
   "source": [
    "# create submission ID list\n",
    "post_ids = list(posts_df.loc[:, 'id'])\n",
    "post_ids[:3]"
   ]
  },
  {
   "cell_type": "markdown",
   "id": "drawn-lebanon",
   "metadata": {},
   "source": [
    "## Search Submissions"
   ]
  },
  {
   "cell_type": "code",
   "execution_count": 6,
   "id": "intensive-junior",
   "metadata": {},
   "outputs": [
    {
     "name": "stdout",
     "output_type": "stream",
     "text": [
      "Total:: Success Rate: 90.91% - Requests: 11 - Batches: 2 - Items Remaining: 0\n",
      "Wall time: 12.4 s\n"
     ]
    }
   ],
   "source": [
    "%%time\n",
    "posts = api.search_submissions(subreddit=\"science\", limit=1000)"
   ]
  },
  {
   "cell_type": "markdown",
   "id": "abroad-median",
   "metadata": {},
   "source": [
    "### Using a query string"
   ]
  },
  {
   "cell_type": "code",
   "execution_count": 7,
   "id": "usual-miami",
   "metadata": {},
   "outputs": [
    {
     "name": "stdout",
     "output_type": "stream",
     "text": [
      "Total:: Success Rate: 100.00% - Requests: 10 - Batches: 1 - Items Remaining: 599\n",
      "Total:: Success Rate: 100.00% - Requests: 20 - Batches: 2 - Items Remaining: 175\n",
      "Total:: Success Rate: 100.00% - Requests: 25 - Batches: 3 - Items Remaining: 0\n",
      "Wall time: 37.7 s\n"
     ]
    }
   ],
   "source": [
    "%%time\n",
    "# example with passing a query string\n",
    "posts = api.search_submissions(q=\"quantum\", subreddit=\"science\", limit=1000)"
   ]
  },
  {
   "cell_type": "code",
   "execution_count": 9,
   "id": "wicked-duplicate",
   "metadata": {},
   "outputs": [
    {
     "name": "stdout",
     "output_type": "stream",
     "text": [
      "1000 posts retrieved\n"
     ]
    }
   ],
   "source": [
    "print(f'{len(posts)} posts retrieved')"
   ]
  },
  {
   "cell_type": "markdown",
   "id": "valued-cooking",
   "metadata": {},
   "source": [
    "Since the `search_submissions` method returns a `Response` object which is a generator we store the posts in the list:"
   ]
  },
  {
   "cell_type": "code",
   "execution_count": 10,
   "id": "satisfied-payment",
   "metadata": {},
   "outputs": [],
   "source": [
    "post_list = [p for p in posts]"
   ]
  },
  {
   "cell_type": "markdown",
   "id": "super-interaction",
   "metadata": {},
   "source": [
    "## Search Submissions by ID"
   ]
  },
  {
   "cell_type": "markdown",
   "id": "innovative-buddy",
   "metadata": {},
   "source": [
    "### Using a Single Submission ID"
   ]
  },
  {
   "cell_type": "code",
   "execution_count": 11,
   "id": "express-matter",
   "metadata": {
    "scrolled": true
   },
   "outputs": [
    {
     "name": "stdout",
     "output_type": "stream",
     "text": [
      "Total:: Success Rate: 100.00% - Requests: 1 - Batches: 1 - Items Remaining: 0\n"
     ]
    }
   ],
   "source": [
    "post = api.search_submissions(ids=post_ids[0])"
   ]
  },
  {
   "cell_type": "markdown",
   "id": "emotional-hobby",
   "metadata": {},
   "source": [
    "### Using Multiple Submission IDs"
   ]
  },
  {
   "cell_type": "code",
   "execution_count": 12,
   "id": "creative-needle",
   "metadata": {},
   "outputs": [
    {
     "name": "stdout",
     "output_type": "stream",
     "text": [
      "Total:: Success Rate: 100.00% - Requests: 3 - Batches: 1 - Items Remaining: 0\n",
      "Wall time: 4.36 s\n"
     ]
    }
   ],
   "source": [
    "%%time\n",
    "posts = api.search_submissions(ids=post_ids)"
   ]
  },
  {
   "cell_type": "code",
   "execution_count": 13,
   "id": "valid-techno",
   "metadata": {},
   "outputs": [
    {
     "name": "stdout",
     "output_type": "stream",
     "text": [
      "2500 submissions returned by Pushshift\n"
     ]
    }
   ],
   "source": [
    "print(f'{len(posts)} submissions returned by Pushshift')"
   ]
  },
  {
   "cell_type": "markdown",
   "id": "completed-favor",
   "metadata": {},
   "source": [
    "### Convert to Dataframe"
   ]
  },
  {
   "cell_type": "code",
   "execution_count": 15,
   "id": "dynamic-pizza",
   "metadata": {},
   "outputs": [],
   "source": [
    "# convert submissions to dataframe\n",
    "new_posts_df = pd.DataFrame(post_list)"
   ]
  },
  {
   "cell_type": "code",
   "execution_count": 16,
   "id": "complete-state",
   "metadata": {},
   "outputs": [
    {
     "data": {
      "text/html": [
       "<div>\n",
       "<style scoped>\n",
       "    .dataframe tbody tr th:only-of-type {\n",
       "        vertical-align: middle;\n",
       "    }\n",
       "\n",
       "    .dataframe tbody tr th {\n",
       "        vertical-align: top;\n",
       "    }\n",
       "\n",
       "    .dataframe thead th {\n",
       "        text-align: right;\n",
       "    }\n",
       "</style>\n",
       "<table border=\"1\" class=\"dataframe\">\n",
       "  <thead>\n",
       "    <tr style=\"text-align: right;\">\n",
       "      <th></th>\n",
       "      <th>all_awardings</th>\n",
       "      <th>allow_live_comments</th>\n",
       "      <th>author</th>\n",
       "      <th>author_flair_css_class</th>\n",
       "      <th>author_flair_richtext</th>\n",
       "      <th>author_flair_text</th>\n",
       "      <th>author_flair_type</th>\n",
       "      <th>author_fullname</th>\n",
       "      <th>author_patreon_flair</th>\n",
       "      <th>author_premium</th>\n",
       "      <th>...</th>\n",
       "      <th>steward_reports</th>\n",
       "      <th>og_description</th>\n",
       "      <th>og_title</th>\n",
       "      <th>removed_by</th>\n",
       "      <th>rte_mode</th>\n",
       "      <th>author_id</th>\n",
       "      <th>view_count</th>\n",
       "      <th>brand_safe</th>\n",
       "      <th>crosspost_parent</th>\n",
       "      <th>crosspost_parent_list</th>\n",
       "    </tr>\n",
       "  </thead>\n",
       "  <tbody>\n",
       "    <tr>\n",
       "      <th>0</th>\n",
       "      <td>[]</td>\n",
       "      <td>False</td>\n",
       "      <td>HeathenLemming</td>\n",
       "      <td>None</td>\n",
       "      <td>[]</td>\n",
       "      <td>None</td>\n",
       "      <td>text</td>\n",
       "      <td>t2_5on10d6u</td>\n",
       "      <td>False</td>\n",
       "      <td>False</td>\n",
       "      <td>...</td>\n",
       "      <td>NaN</td>\n",
       "      <td>NaN</td>\n",
       "      <td>NaN</td>\n",
       "      <td>NaN</td>\n",
       "      <td>NaN</td>\n",
       "      <td>NaN</td>\n",
       "      <td>NaN</td>\n",
       "      <td>NaN</td>\n",
       "      <td>NaN</td>\n",
       "      <td>NaN</td>\n",
       "    </tr>\n",
       "    <tr>\n",
       "      <th>1</th>\n",
       "      <td>[]</td>\n",
       "      <td>False</td>\n",
       "      <td>clostridium_dead</td>\n",
       "      <td>None</td>\n",
       "      <td>[]</td>\n",
       "      <td>None</td>\n",
       "      <td>text</td>\n",
       "      <td>t2_9uxh3</td>\n",
       "      <td>False</td>\n",
       "      <td>False</td>\n",
       "      <td>...</td>\n",
       "      <td>NaN</td>\n",
       "      <td>NaN</td>\n",
       "      <td>NaN</td>\n",
       "      <td>NaN</td>\n",
       "      <td>NaN</td>\n",
       "      <td>NaN</td>\n",
       "      <td>NaN</td>\n",
       "      <td>NaN</td>\n",
       "      <td>NaN</td>\n",
       "      <td>NaN</td>\n",
       "    </tr>\n",
       "    <tr>\n",
       "      <th>2</th>\n",
       "      <td>[]</td>\n",
       "      <td>False</td>\n",
       "      <td>RomanTheOmen</td>\n",
       "      <td>None</td>\n",
       "      <td>[]</td>\n",
       "      <td>None</td>\n",
       "      <td>text</td>\n",
       "      <td>t2_4r7za</td>\n",
       "      <td>False</td>\n",
       "      <td>False</td>\n",
       "      <td>...</td>\n",
       "      <td>NaN</td>\n",
       "      <td>NaN</td>\n",
       "      <td>NaN</td>\n",
       "      <td>NaN</td>\n",
       "      <td>NaN</td>\n",
       "      <td>NaN</td>\n",
       "      <td>NaN</td>\n",
       "      <td>NaN</td>\n",
       "      <td>NaN</td>\n",
       "      <td>NaN</td>\n",
       "    </tr>\n",
       "  </tbody>\n",
       "</table>\n",
       "<p>3 rows × 87 columns</p>\n",
       "</div>"
      ],
      "text/plain": [
       "  all_awardings allow_live_comments            author author_flair_css_class  \\\n",
       "0            []               False    HeathenLemming                   None   \n",
       "1            []               False  clostridium_dead                   None   \n",
       "2            []               False      RomanTheOmen                   None   \n",
       "\n",
       "  author_flair_richtext author_flair_text author_flair_type author_fullname  \\\n",
       "0                    []              None              text     t2_5on10d6u   \n",
       "1                    []              None              text        t2_9uxh3   \n",
       "2                    []              None              text        t2_4r7za   \n",
       "\n",
       "  author_patreon_flair author_premium  ... steward_reports  og_description  \\\n",
       "0                False          False  ...             NaN             NaN   \n",
       "1                False          False  ...             NaN             NaN   \n",
       "2                False          False  ...             NaN             NaN   \n",
       "\n",
       "   og_title  removed_by rte_mode author_id view_count brand_safe  \\\n",
       "0       NaN         NaN      NaN       NaN        NaN        NaN   \n",
       "1       NaN         NaN      NaN       NaN        NaN        NaN   \n",
       "2       NaN         NaN      NaN       NaN        NaN        NaN   \n",
       "\n",
       "   crosspost_parent crosspost_parent_list  \n",
       "0               NaN                   NaN  \n",
       "1               NaN                   NaN  \n",
       "2               NaN                   NaN  \n",
       "\n",
       "[3 rows x 87 columns]"
      ]
     },
     "execution_count": 16,
     "metadata": {},
     "output_type": "execute_result"
    }
   ],
   "source": [
    "new_posts_df.head(3)"
   ]
  }
 ],
 "metadata": {
  "kernelspec": {
   "display_name": "Python 3",
   "language": "python",
   "name": "python3"
  },
  "language_info": {
   "codemirror_mode": {
    "name": "ipython",
    "version": 3
   },
   "file_extension": ".py",
   "mimetype": "text/x-python",
   "name": "python",
   "nbconvert_exporter": "python",
   "pygments_lexer": "ipython3",
   "version": "3.6.12"
  }
 },
 "nbformat": 4,
 "nbformat_minor": 5
}
